{
 "cells": [
  {
   "cell_type": "code",
   "execution_count": 2,
   "id": "01e037f5",
   "metadata": {},
   "outputs": [],
   "source": [
    "# Import Packages\n",
    "\n",
    "import cv2\n",
    "import gtts\n",
    "import numpy as np\n",
    "import face_recognition\n",
    "from playsound import playsound\n",
    "from PIL import Image, ImageDraw"
   ]
  },
  {
   "cell_type": "code",
   "execution_count": 3,
   "id": "3e39c548",
   "metadata": {},
   "outputs": [],
   "source": [
    "# load Images\n",
    "\n",
    "Salah_image = face_recognition.load_image_file(r\"E:\\3.Computer Vision\\face_recognition\\face_detection-master\\known\\Mo Salah.jpg\")\n",
    "treka_image = face_recognition.load_image_file(r\"E:\\3.Computer Vision\\face_recognition\\face_detection-master\\known\\treka2.jpg\")\n",
    "z3ama_image = face_recognition.load_image_file(r\"E:\\3.Computer Vision\\face_recognition\\face_detection-master\\known\\z3ama.jpg\")"
   ]
  },
  {
   "cell_type": "code",
   "execution_count": 4,
   "id": "267a15df",
   "metadata": {},
   "outputs": [],
   "source": [
    "# Encoding the loaded images\n",
    "\n",
    "Salah_face_encoding = face_recognition.face_encodings(Salah_image)[0]\n",
    "treka_face_encoding = face_recognition.face_encodings(treka_image)[0]\n",
    "z3ama_face_encoding = face_recognition.face_encodings(z3ama_image)[0]\n",
    "known_face_encodings = [Salah_face_encoding,treka_face_encoding, z3ama_face_encoding]\n",
    "known_faces_names = [\"Mo Salah \",\"Abou treka\", \"Al zaama adel shakal\"]"
   ]
  },
  {
   "cell_type": "code",
   "execution_count": null,
   "id": "49e93e01",
   "metadata": {},
   "outputs": [],
   "source": [
    "N=1\n",
    "NUM=1"
   ]
  },
  {
   "cell_type": "code",
   "execution_count": 66,
   "id": "020012b1",
   "metadata": {},
   "outputs": [],
   "source": [
    "# Load test image\n",
    "\n",
    "unknown_image = face_recognition.load_image_file(r'E:\\3.Computer Vision\\face_recognition\\face_detection-master\\un_known\\3.jpg')\n",
    "unknown_face_locations = face_recognition.face_locations(unknown_image)\n",
    "unknown_face_encodings = face_recognition.face_encodings(unknown_image, unknown_face_locations)\n",
    "pil_image = Image.fromarray(unknown_image)\n",
    "draw = ImageDraw.Draw(pil_image)"
   ]
  },
  {
   "cell_type": "code",
   "execution_count": 67,
   "id": "8d84f383",
   "metadata": {},
   "outputs": [],
   "source": [
    "for (top, right, bottom, left), unknown_face_encoding in zip(unknown_face_locations, unknown_face_encodings):\n",
    "    matches = face_recognition.compare_faces(known_face_encodings, unknown_face_encoding)\n",
    "    face_distance = face_recognition.face_distance(known_face_encodings, unknown_face_encoding)\n",
    "    best_match_index = np.argmin(face_distance)\n",
    "\n",
    "    if matches[best_match_index]:\n",
    "        name1 = known_faces_names[best_match_index]\n",
    "        draw.rectangle(((left, top), (right, bottom)), outline=(0, 255, 0))\n",
    "        text_width, text_height = draw.textsize(name1)\n",
    "        draw.text((left , (top - text_height) ),name1, fill=(0, 255, 0, 0))       \n",
    "        tts=gtts.gTTS(F\"Welcome {name1} \",lang=\"en\")       \n",
    "        N+=1\n",
    "        tts.save(F\"UN{N}v2.mp3\")\n",
    "        playsound(F\"UN{N}v2.mp3\")\n",
    "    else:\n",
    "        name = \"unknown\"\n",
    "        draw.rectangle(((left, top), (right, bottom)), outline=(255, 0, 0))\n",
    "        text_width, text_height = draw.textsize(name)\n",
    "        draw.text((left , (top - text_height) ),name, fill=(255, 0, 0, 0))       \n",
    "        tts=gtts.gTTS(\"Emsek Haraamy\",lang=\"en\")\n",
    "        NUM+=1\n",
    "        tts.save(F\"UN{NUM}.mp3\")\n",
    "        playsound(F\"UN{NUM}.mp3\")\n",
    "del draw       \n",
    "#pil_image.show()\n",
    "img=cv2.cvtColor(np.array(pil_image),cv2.COLOR_BGR2RGB)\n",
    "width = int(img.shape[1] * 2)\n",
    "height = int(img.shape[0] * 2)\n",
    "dim = (width, height)\n",
    "img = cv2.resize(img, dim, interpolation = cv2.INTER_AREA)\n",
    "cv2.imshow(\"\",img)\n",
    "cv2.waitKey(0)\n",
    "cv2.destroyAllWindows()"
   ]
  },
  {
   "cell_type": "code",
   "execution_count": null,
   "id": "6abe437c",
   "metadata": {},
   "outputs": [],
   "source": []
  }
 ],
 "metadata": {
  "kernelspec": {
   "display_name": "Python 3 (ipykernel)",
   "language": "python",
   "name": "python3"
  },
  "language_info": {
   "codemirror_mode": {
    "name": "ipython",
    "version": 3
   },
   "file_extension": ".py",
   "mimetype": "text/x-python",
   "name": "python",
   "nbconvert_exporter": "python",
   "pygments_lexer": "ipython3",
   "version": "3.10.4"
  }
 },
 "nbformat": 4,
 "nbformat_minor": 5
}
